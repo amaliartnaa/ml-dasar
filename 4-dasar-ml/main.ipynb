{
 "cells": [
  {
   "cell_type": "code",
   "execution_count": null,
   "metadata": {},
   "outputs": [],
   "source": [
    "# Latihan SKLearn dengan Teknik Grid Search"
   ]
  },
  {
   "cell_type": "code",
   "execution_count": null,
   "metadata": {},
   "outputs": [],
   "source": [
    "import pandas as pd\n",
    "\n",
    "## Langkah 1 - baca dataset dan ubah menjadi dataframe\n",
    "data = pd.read_csv('Salary_Data.csv')"
   ]
  },
  {
   "cell_type": "code",
   "execution_count": null,
   "metadata": {},
   "outputs": [],
   "source": [
    "import numpy as np\n",
    "\n",
    "## Langkah 2 - pisahkan atribut dan label\n",
    "X = data['YearsExperience']\n",
    "y = data['Salary']\n",
    "\n",
    "## Langkah 3 - ubah bentuk atribut\n",
    "X = np.array(X)\n",
    "X = X.reshape(-1, 1)"
   ]
  },
  {
   "cell_type": "code",
   "execution_count": null,
   "metadata": {},
   "outputs": [],
   "source": [
    "from sklearn.model_selection import GridSearchCV\n",
    "from sklearn.svm import SVR\n",
    "\n",
    "## Langkah 4 - bangun model dgn parameter C, gamma, dan kernel\n",
    "model = SVR()\n",
    "parameters = {\n",
    "    'kernel': ['rbf'],\n",
    "    'C': [1000, 10000, 100000],\n",
    "    'gamma': [0.5, 0.05, 0.005]\n",
    "}\n",
    "grid_search = GridSearchCV(model, parameters)\n",
    "\n",
    "## Langkah 5 - latih model dgn fungsi fit\n",
    "grid_search.fit(X, y)"
   ]
  },
  {
   "cell_type": "code",
   "execution_count": null,
   "metadata": {},
   "outputs": [],
   "source": [
    "## Langkah 6 - tampilkan parameter terbaik dgn memanggil atribut best_params_ dari objek grid_search\n",
    "print(grid_search.best_params_)"
   ]
  },
  {
   "cell_type": "code",
   "execution_count": null,
   "metadata": {},
   "outputs": [],
   "source": [
    "## Langkah 7 - buat model SVM baru dgn parameter terbaik hasil grid search\n",
    "model_baru = SVR(C = 100000, gamma = 0.005, kernel = 'rbf')\n",
    "model_baru.fit(X, y)"
   ]
  },
  {
   "cell_type": "code",
   "execution_count": null,
   "metadata": {},
   "outputs": [],
   "source": [
    "## Langkah 8 - visualisasikan SVR dgn parameter hasil grid search\n",
    "import matplotlib.pyplot as plt\n",
    "\n",
    "plt.scatter(X, y)\n",
    "plt.plot(X, model_baru.predict(X))\n",
    "\n",
    "## hasilnya bahwa grid search berhasil mencarai parameter yg lebih baik sehingga meningkatkan performa dari model"
   ]
  }
 ],
 "metadata": {
  "language_info": {
   "name": "python"
  }
 },
 "nbformat": 4,
 "nbformat_minor": 2
}
