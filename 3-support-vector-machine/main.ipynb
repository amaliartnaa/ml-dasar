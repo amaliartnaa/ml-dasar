{
 "cells": [
  {
   "cell_type": "code",
   "execution_count": null,
   "metadata": {},
   "outputs": [],
   "source": [
    "# Latihan SKLearn SVM untuk klasifikasi"
   ]
  },
  {
   "cell_type": "code",
   "execution_count": null,
   "metadata": {},
   "outputs": [],
   "source": [
    "import pandas as pd\n",
    "\n",
    "df = pd.read_csv('diabetes.csv')\n",
    "\n",
    "df.head()"
   ]
  },
  {
   "cell_type": "code",
   "execution_count": null,
   "metadata": {},
   "outputs": [],
   "source": [
    "## Langkah 2 - cek apakah ada nilai-nila yg hilang dan apakah ada atribut yg bukan terisi bil numerik\n",
    "df.info()\n",
    "\n",
    "## karna output spt dibawah maka sudah bisa dipake utk pelatihan model"
   ]
  },
  {
   "cell_type": "code",
   "execution_count": null,
   "metadata": {},
   "outputs": [],
   "source": [
    "## Langkah 3 - pisahkan atribut pd dataset dan simpan pada sebuah variabel\n",
    "X = df[df.columns[:8]]\n",
    "\n",
    "## Langkah 4 - pisahkan label pd dataset dan simpan pd sebuah variabel\n",
    "y = df['Outcome']"
   ]
  },
  {
   "cell_type": "code",
   "execution_count": null,
   "metadata": {},
   "outputs": [],
   "source": [
    "from sklearn.preprocessing import StandardScaler\n",
    "\n",
    "## Langkah 5 - ubah nilai-nilai dari setiap atributberada pd skala yg sama, dapat coba menggunakan standarisasi nilai-nilai dari dataset\n",
    "scaler = StandardScaler()\n",
    "scaler.fit(X)\n",
    "X = scaler.transform(X)"
   ]
  },
  {
   "cell_type": "code",
   "execution_count": null,
   "metadata": {},
   "outputs": [],
   "source": [
    "## Langkah 6 - pisahkan data utk training dan testing \n",
    "from sklearn.model_selection import train_test_split\n",
    "\n",
    "X_train, X_test, y_train, y_test = train_test_split(\n",
    "    X, y, test_size = 0.33, random_state = 42\n",
    ")"
   ]
  },
  {
   "cell_type": "code",
   "execution_count": null,
   "metadata": {},
   "outputs": [],
   "source": [
    "from sklearn.svm import SVC\n",
    "\n",
    "## Langkah 7 - buat objek SVC dan panggil fungsi fit utk melatih model\n",
    "clf = SVC()\n",
    "clf.fit(X_train, y_train)"
   ]
  },
  {
   "cell_type": "code",
   "execution_count": null,
   "metadata": {},
   "outputs": [],
   "source": [
    "## Langkah 8 - tampilkan skor akurasi prediksi\n",
    "clf.score(X_test, y_test)\n",
    "\n",
    "## selamat! karena telah mengembangkan sebuah model SVC utk mendeteksi diabetes!"
   ]
  },
  {
   "cell_type": "code",
   "execution_count": null,
   "metadata": {},
   "outputs": [],
   "source": [
    "# Latihan SKLearn SVR"
   ]
  },
  {
   "cell_type": "code",
   "execution_count": null,
   "metadata": {},
   "outputs": [],
   "source": [
    "import pandas as pd\n",
    "\n",
    "data = pd.read_csv('Salary_Data.csv')\n",
    "\n",
    "data.head()"
   ]
  },
  {
   "cell_type": "code",
   "execution_count": null,
   "metadata": {},
   "outputs": [],
   "source": [
    "data.info()"
   ]
  },
  {
   "cell_type": "code",
   "execution_count": null,
   "metadata": {},
   "outputs": [],
   "source": [
    "import numpy as np\n",
    "\n",
    "## Langkah 1 - pisahkan atribut dan label yg ingin diprediksi\n",
    "X = data['YearsExperience']\n",
    "y = data['Salary']\n",
    "\n",
    "## Langkah 2 - ubah bentuk atribut\n",
    "X = np.array(X)\n",
    "X = X[:, np.newaxis]"
   ]
  },
  {
   "cell_type": "code",
   "execution_count": null,
   "metadata": {},
   "outputs": [],
   "source": [
    "from sklearn.svm import SVR\n",
    "\n",
    "## Langkah 2 - buat objek SVR, membangun model dgn parameter c, gamma, dan kernel\n",
    "model = SVR(C = 1000, gamma = 0.05, kernel = 'rbf')\n",
    "\n",
    "## Langkah 3 - melatih model dgn fungsi fit\n",
    "model.fit(X, y)"
   ]
  },
  {
   "cell_type": "code",
   "execution_count": null,
   "metadata": {},
   "outputs": [],
   "source": [
    "import matplotlib.pyplot as plt\n",
    "\n",
    "## Langkah 4 - visualisasikan model\n",
    "plt.scatter(X, y)\n",
    "plt.plot(X, model.predict(X))\n",
    "\n",
    "## hasil visualisasi menunjukkan bahwa model yg dikembangkan belum mampu menyesuaikan thd pola pada data dgn baik"
   ]
  }
 ],
 "metadata": {
  "language_info": {
   "name": "python"
  }
 },
 "nbformat": 4,
 "nbformat_minor": 2
}
